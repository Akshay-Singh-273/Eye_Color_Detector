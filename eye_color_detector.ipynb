{
 "cells": [
  {
   "cell_type": "markdown",
   "metadata": {},
   "source": [
    "Importing modules"
   ]
  },
  {
   "cell_type": "code",
   "execution_count": 33,
   "metadata": {},
   "outputs": [],
   "source": [
    "import pandas as pd\n",
    "import cv2\n",
    "import os\n",
    "from sklearn.cluster import KMeans\n",
    "import matplotlib.pyplot as plt\n",
    "import numpy as np\n",
    "from collections import Counter"
   ]
  },
  {
   "cell_type": "markdown",
   "metadata": {},
   "source": [
    "variables and directories"
   ]
  },
  {
   "cell_type": "code",
   "execution_count": 45,
   "metadata": {},
   "outputs": [],
   "source": [
    "index=[\"color\", \"color_name\", \"hex\", \"R\", \"G\", \"B\"]\n",
    "csv = pd.read_csv('colors.csv', names=index, header=None)\n",
    "\n",
    "number_of_colors = 3"
   ]
  },
  {
   "cell_type": "markdown",
   "metadata": {},
   "source": [
    "loading haarcascades"
   ]
  },
  {
   "cell_type": "code",
   "execution_count": 35,
   "metadata": {},
   "outputs": [],
   "source": [
    "face_cascade = cv2.CascadeClassifier('Haarcascade_files/haarcascade_frontalface_default.xml')\n",
    "eye_cascade = cv2.CascadeClassifier('Haarcascade_files/haarcascade_eye.xml')"
   ]
  },
  {
   "cell_type": "markdown",
   "metadata": {},
   "source": [
    "function for ROI of eyes"
   ]
  },
  {
   "cell_type": "code",
   "execution_count": 36,
   "metadata": {},
   "outputs": [],
   "source": [
    "def ROI_for_eyes(eyes, img):\n",
    "    for x,y,w,h in eyes:\n",
    "        roi_eye_color = img[y+25:y+h-25, x+25:x+w-25]\n",
    "        roi_eye_color = cv2.resize(roi_eye_color, (100, 100), interpolation = cv2.INTER_AREA)\n",
    "        roi_eye_color_3D = roi_eye_color\n",
    "        roi_eye_color = cv2.cvtColor(roi_eye_color, cv2.COLOR_BGR2RGB)\n",
    "        roi_eye_color = roi_eye_color.reshape(roi_eye_color.shape[0]*roi_eye_color.shape[1], 3)\n",
    "        break\n",
    "    return roi_eye_color, roi_eye_color_3D"
   ]
  },
  {
   "cell_type": "code",
   "execution_count": 37,
   "metadata": {},
   "outputs": [],
   "source": [
    "def RGB2HEX(color):\n",
    "    return \"#{:02x}{:02x}{:02x}\".format(int(color[0]), int(color[1]), int(color[2]))"
   ]
  },
  {
   "cell_type": "markdown",
   "metadata": {},
   "source": [
    "functions for detecting color in image"
   ]
  },
  {
   "cell_type": "code",
   "execution_count": 38,
   "metadata": {},
   "outputs": [],
   "source": [
    "def recognize_color(R,G,B):\n",
    "    minimum = 10000\n",
    "    for i in range(len(csv)):\n",
    "        d = abs(R- int(csv.loc[i,\"R\"])) + abs(G- int(csv.loc[i,\"G\"]))+ abs(B- int(csv.loc[i,\"B\"]))\n",
    "        if(d<=minimum):\n",
    "            minimum = d\n",
    "            cname = csv.loc[i,\"color_name\"]\n",
    "    return cname"
   ]
  },
  {
   "cell_type": "code",
   "execution_count": 39,
   "metadata": {},
   "outputs": [],
   "source": [
    "def color_detector(eye, show_chart):\n",
    "    counter = 0\n",
    "    clf = KMeans(n_clusters = number_of_colors)\n",
    "    labels = clf.fit_predict(eye)\n",
    "    counts = Counter(labels)\n",
    "    center_colors = clf.cluster_centers_\n",
    "    # We get ordered colors by iterating through the keys\n",
    "    ordered_colors = [center_colors[i] for i in counts.keys()]\n",
    "    hex_colors = [RGB2HEX(ordered_colors[i]) for i in counts.keys()]\n",
    "    rgb_colors = [ordered_colors[i] for i in counts.keys()]\n",
    "    if (show_chart):\n",
    "        plt.figure(figsize = (8, 6))\n",
    "        plt.pie(counts.values(), labels = hex_colors, colors = hex_colors)\n",
    "    for i in counts.values():\n",
    "        if i == max(counts.values()):\n",
    "            break\n",
    "        counter += 1\n",
    "    for color in rgb_colors:\n",
    "        if counter != 0:\n",
    "            counter -= 1\n",
    "            continue\n",
    "        print(\"Color:\")\n",
    "        print(recognize_color(color[0],color[1],color[2]))\n",
    "        break"
   ]
  },
  {
   "cell_type": "markdown",
   "metadata": {},
   "source": [
    "function for detecting face and eyes"
   ]
  },
  {
   "cell_type": "code",
   "execution_count": 40,
   "metadata": {},
   "outputs": [],
   "source": [
    "def faces_and_eyes_detector(image):\n",
    "    # Convert into grayscale and resize\n",
    "    img = cv2.resize(image, None, fx = 1, fy = 1, interpolation = cv2.INTER_LINEAR)\n",
    "    gray = cv2.cvtColor(img, cv2.COLOR_BGR2GRAY)\n",
    "    # Detect faces\n",
    "    faces = face_cascade.detectMultiScale(gray, 1.8, 4)\n",
    "    # extracting ROI for eyes\n",
    "    if len(faces) == 0:\n",
    "        roi_eyes_colour = img[:]\n",
    "        roi_eyes_gray = gray[:]\n",
    "    else:\n",
    "        for x,y,w,h in faces:\n",
    "            roi_eyes_gray = gray[y:y+h, x:x+w]\n",
    "            roi_eyes_colour = img[y:y+h, x:x+w]\n",
    "    # Detect eyes\n",
    "    eyes = eye_cascade.detectMultiScale(roi_eyes_gray, 1.8, 4)\n",
    "    display_img(img, roi_eyes_colour, faces, eyes, flag = 1)\n",
    "    \n",
    "    if len(eyes) != 0:\n",
    "        roi_eye_color, roi_eye_color_3d = ROI_for_eyes(eyes, roi_eyes_colour)\n",
    "        color_detector(roi_eye_color, True)\n",
    "        cv2.imshow(\"eye\",roi_eye_color_3d )\n",
    "        cv2.waitKey()\n",
    "        cv2.destroyWindow(\"eye\")\n",
    "    else:\n",
    "        print(\"Eyes not Detected!!\")"
   ]
  },
  {
   "cell_type": "markdown",
   "metadata": {},
   "source": [
    "function to display detected face and eyes on image"
   ]
  },
  {
   "cell_type": "code",
   "execution_count": 41,
   "metadata": {},
   "outputs": [],
   "source": [
    "def display_img(img, roi_eyes_colour, faces, eyes, flag = 0):\n",
    "    # Draw rectangle around the faces\n",
    "    for (x, y, w, h) in faces:\n",
    "        cv2.rectangle(img, (x, y ), (x+w, y+h), (255, 0, 0), 1)\n",
    "    # Draw rectangle around the eyes\n",
    "    for (x, y, w, h) in eyes:\n",
    "        if flag == 1:\n",
    "            cv2.rectangle(roi_eyes_colour, (x, y+12), (x+w, y+h-12), (255, 255, 0), 1)\n",
    "        else:\n",
    "            cv2.rectangle(img, (x, y+12), (x+w, y+h-12), (255, 255, 0), 1)\n",
    "    cv2.imshow('img', img)\n",
    "    cv2.waitKey()\n",
    "    cv2.destroyWindow('img')"
   ]
  },
  {
   "cell_type": "markdown",
   "metadata": {},
   "source": [
    "function for taking picture"
   ]
  },
  {
   "cell_type": "code",
   "execution_count": 42,
   "metadata": {},
   "outputs": [],
   "source": [
    "from tkinter import *\n",
    "from tkinter import ttk\n",
    "import random\n",
    "\n",
    "def Picture():\n",
    "    try:\n",
    "        cam.release()\n",
    "    except:\n",
    "        print(\"opening camera!\")\n",
    "    cam = cv2.VideoCapture(0)\n",
    "    while True:\n",
    "        ret, frame = cam.read()\n",
    "        if not ret:\n",
    "            print(\"can't receive frame. Exiting...\")\n",
    "            break\n",
    "        frame = cv2.flip(frame, 1)\n",
    "        cv2.imshow(\"Picture\", frame)\n",
    "        if cv2.waitKey(1) == ord('f'):\n",
    "            file_dir = \"image\"+str(random.randint(0,200))+\".png\"\n",
    "            cv2.imwrite(file_dir, frame)\n",
    "            print(\"Picture Taken!!\")\n",
    "            print(\"Closing Camera!!\")\n",
    "            cam.release()\n",
    "            cv2.destroyWindow(\"Picture\")\n",
    "            current_image = cv2.imread(file_dir)\n",
    "            faces_and_eyes_detector(current_image)\n",
    "            break\n",
    "        elif cv2.waitKey(1) == ord('q'):\n",
    "            cv2.destroyWindow(\"Picture\")\n",
    "            break\n",
    "    cam.release()"
   ]
  },
  {
   "cell_type": "markdown",
   "metadata": {},
   "source": [
    "GUI"
   ]
  },
  {
   "cell_type": "code",
   "execution_count": 43,
   "metadata": {},
   "outputs": [
    {
     "name": "stdout",
     "output_type": "stream",
     "text": [
      "opening camera!\n",
      "Picture Taken!!\n",
      "Closing Camera!!\n",
      "Color:\n",
      "Dark Jungle Green\n"
     ]
    },
    {
     "data": {
      "image/png": "[encoded data removed]",
      "text/plain": [
       "<Figure size 576x432 with 1 Axes>"
      ]
     },
     "metadata": {},
     "output_type": "display_data"
    }
   ],
   "source": [
    "window = Tk()\n",
    "window.title(\"Camera App\")\n",
    "mainframe = ttk.Frame(window, padding = \"10 10 20 20\")\n",
    "mainframe.grid(column = 0, row = 0, sticky = (N, W, E, S))\n",
    "window.columnconfigure(0, weight = 1)\n",
    "window.rowconfigure(0, weight = 1)\n",
    "\n",
    "ttk.Label(mainframe, text = \"Take a picture to detect eye color\").grid(padx = 50, pady = 10, column = 2, row = 1, sticky = N)\n",
    "picture_button = ttk.Button(mainframe, text = \"Open Camera\", command = Picture).grid(padx = 50, pady = 30, column = 2, row = 2, sticky = N)\n",
    "ttk.Label(mainframe, text = \"Instructions\").grid(padx = 50, pady = 5, column = 2, row = 3, sticky = N)\n",
    "ttk.Label(mainframe, text = \"1.Press 'F' to take pictures\\n2.Press 'Q' to exit mode\").grid(column = 1, row = 4, sticky = W, columnspan = 3)\n",
    "window.mainloop()"
   ]
  }
 ],
 "metadata": {
  "kernelspec": {
   "display_name": "Python 3.10.6 64-bit",
   "language": "python",
   "name": "python3"
  },
  "language_info": {
   "codemirror_mode": {
    "name": "ipython",
    "version": 3
   },
   "file_extension": ".py",
   "mimetype": "text/x-python",
   "name": "python",
   "nbconvert_exporter": "python",
   "pygments_lexer": "ipython3",
   "version": "3.10.6"
  },
  "orig_nbformat": 4,
  "vscode": {
   "interpreter": {
    "hash": "d3991aabf8041fede510207581da172a1eeee709bdbddf548160fbff210f034b"
   }
  }
 },
 "nbformat": 4,
 "nbformat_minor": 2
}
